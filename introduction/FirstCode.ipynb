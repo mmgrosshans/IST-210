{
  "nbformat": 4,
  "nbformat_minor": 0,
  "metadata": {
    "colab": {
      "name": "FirstCode.ipynb",
      "provenance": [],
      "toc_visible": true,
      "authorship_tag": "ABX9TyPbiPY5A117c5eps3FnGpvu",
      "include_colab_link": true
    },
    "kernelspec": {
      "name": "python3",
      "display_name": "Python 3"
    }
  },
  "cells": [
    {
      "cell_type": "markdown",
      "metadata": {
        "id": "view-in-github",
        "colab_type": "text"
      },
      "source": [
        "<a href=\"https://colab.research.google.com/github/mmgrosshans/IST-210/blob/master/introduction/FirstCode.ipynb\" target=\"_parent\"><img src=\"https://colab.research.google.com/assets/colab-badge.svg\" alt=\"Open In Colab\"/></a>"
      ]
    },
    {
      "cell_type": "code",
      "metadata": {
        "id": "3lOOeU5WzZUe",
        "colab_type": "code",
        "colab": {
          "base_uri": "https://localhost:8080/",
          "height": 34
        },
        "outputId": "4a2005a7-4694-45e4-87ed-7d45e97b8cf8"
      },
      "source": [
        "2+2"
      ],
      "execution_count": 4,
      "outputs": [
        {
          "output_type": "execute_result",
          "data": {
            "text/plain": [
              "4"
            ]
          },
          "metadata": {
            "tags": []
          },
          "execution_count": 4
        }
      ]
    },
    {
      "cell_type": "markdown",
      "metadata": {
        "id": "QUwTLYdGzlU7",
        "colab_type": "text"
      },
      "source": [
        "This is my first notebook!"
      ]
    },
    {
      "cell_type": "code",
      "metadata": {
        "id": "lWfevMyQzvcA",
        "colab_type": "code",
        "colab": {
          "base_uri": "https://localhost:8080/",
          "height": 34
        },
        "outputId": "88c0290c-3824-4568-f787-a8bae3192aec"
      },
      "source": [
        "2+3"
      ],
      "execution_count": 5,
      "outputs": [
        {
          "output_type": "execute_result",
          "data": {
            "text/plain": [
              "5"
            ]
          },
          "metadata": {
            "tags": []
          },
          "execution_count": 5
        }
      ]
    },
    {
      "cell_type": "markdown",
      "metadata": {
        "id": "Kl5NsEaC0Qdu",
        "colab_type": "text"
      },
      "source": [
        "this is **bold text**"
      ]
    },
    {
      "cell_type": "markdown",
      "metadata": {
        "id": "6oxpNh1f0snB",
        "colab_type": "text"
      },
      "source": [
        "### this is a header"
      ]
    },
    {
      "cell_type": "markdown",
      "metadata": {
        "id": "D6qM66lS4aFy",
        "colab_type": "text"
      },
      "source": [
        "![alt text](https://raw.githubusercontent.com/mmgrosshans/IST-210/master/introduction/intro%20to%20r.PNG)\n",
        "\n"
      ]
    }
  ]
}