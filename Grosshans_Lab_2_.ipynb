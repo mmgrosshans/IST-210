{
  "nbformat": 4,
  "nbformat_minor": 0,
  "metadata": {
    "colab": {
      "name": "Lab_2.ipyn",
      "provenance": [],
      "authorship_tag": "ABX9TyNf9sjtSUOj4dUhBa1Bg6ht",
      "include_colab_link": true
    },
    "kernelspec": {
      "name": "python3",
      "display_name": "Python 3"
    }
  },
  "cells": [
    {
      "cell_type": "markdown",
      "metadata": {
        "id": "view-in-github",
        "colab_type": "text"
      },
      "source": [
        "<a href=\"https://colab.research.google.com/github/mmgrosshans/IST-210/blob/master/Grosshans_Lab_2_.ipynb\" target=\"_parent\"><img src=\"https://colab.research.google.com/assets/colab-badge.svg\" alt=\"Open In Colab\"/></a>"
      ]
    },
    {
      "cell_type": "markdown",
      "metadata": {
        "id": "XvkrGYyoSmLW",
        "colab_type": "text"
      },
      "source": [
        "For this ER Diagram, I have six tables. These tables are Enclosures, Pets, Adoptions, Pet Food, Customers, and Fish. For the Enclosure table, the primary key is the ID of the place where the pet is kept, and the attributes are the pet included, type, and size of the enclosure. For the Pet table, the primary key is the Pet ID, with attributes of breed, age and weight. For the adoption table, the primary key is the Adoption ID with attributes of Price, Loyalty ID (a primary key in the Customer table), and the Pet adopted. For the Pet Food table, the priamry key is the ID of the pet food with attributes of the type of food, price and Loyalty ID of the customer (a primary key in the Customer table). For the Customer table, the primary key is their Loyalty ID with attributes of phone number, address, and their first name. And for the Fish table, the primary key is the fish ID with attributes of type of fish, price and if a fishbowl is included or not."
      ]
    },
    {
      "cell_type": "markdown",
      "metadata": {
        "id": "ENZd9Si9V3xg",
        "colab_type": "text"
      },
      "source": [
        "![alt text](https://raw.githubusercontent.com/mmgrosshans/IST-210/master/Pet_diagram.png)"
      ]
    }
  ]
}