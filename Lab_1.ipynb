{
  "nbformat": 4,
  "nbformat_minor": 0,
  "metadata": {
    "colab": {
      "name": "Lab 1.ipynb",
      "provenance": [],
      "collapsed_sections": [],
      "authorship_tag": "ABX9TyOoPfR5Hj1qwAKXM6EH3QXD",
      "include_colab_link": true
    },
    "kernelspec": {
      "name": "python3",
      "display_name": "Python 3"
    }
  },
  "cells": [
    {
      "cell_type": "markdown",
      "metadata": {
        "id": "view-in-github",
        "colab_type": "text"
      },
      "source": [
        "<a href=\"https://colab.research.google.com/github/mmgrosshans/IST-210/blob/master/Lab_1.ipynb\" target=\"_parent\"><img src=\"https://colab.research.google.com/assets/colab-badge.svg\" alt=\"Open In Colab\"/></a>"
      ]
    },
    {
      "cell_type": "markdown",
      "metadata": {
        "id": "zykk0R_gE7Vh",
        "colab_type": "text"
      },
      "source": [
        "### Name:"
      ]
    },
    {
      "cell_type": "markdown",
      "metadata": {
        "id": "4FNDkIkXFd0_",
        "colab_type": "text"
      },
      "source": [
        "Matthew Grosshans"
      ]
    },
    {
      "cell_type": "markdown",
      "metadata": {
        "id": "5az_om0TFAiq",
        "colab_type": "text"
      },
      "source": [
        "### IST Interests:"
      ]
    },
    {
      "cell_type": "markdown",
      "metadata": {
        "id": "e-uYMKvOFmKq",
        "colab_type": "text"
      },
      "source": [
        "I chose to enroll in IST 210 because it is one of the classes I need to take for my Data Sciences major."
      ]
    },
    {
      "cell_type": "markdown",
      "metadata": {
        "id": "cFgpo-LHGHqK",
        "colab_type": "text"
      },
      "source": [
        "### Future Job/Career"
      ]
    },
    {
      "cell_type": "markdown",
      "metadata": {
        "id": "rf0Qpo1SGLlm",
        "colab_type": "text"
      },
      "source": [
        "I am interested in getting a job in analyzing sports data for a major league team, preferably in basketball or football."
      ]
    },
    {
      "cell_type": "markdown",
      "metadata": {
        "id": "Axej6RkLGoH0",
        "colab_type": "text"
      },
      "source": [
        "### Image of Myself"
      ]
    }
  ]
}